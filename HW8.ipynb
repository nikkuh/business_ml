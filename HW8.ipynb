{
 "cells": [
  {
   "cell_type": "code",
   "execution_count": 1,
   "id": "bb896610",
   "metadata": {},
   "outputs": [],
   "source": [
    "import numpy as np\n",
    "import pandas as pd"
   ]
  },
  {
   "cell_type": "code",
   "execution_count": 2,
   "id": "2de6d44f",
   "metadata": {},
   "outputs": [],
   "source": [
    "df = pd.read_csv('marketing_campaign.csv')"
   ]
  },
  {
   "cell_type": "code",
   "execution_count": 3,
   "id": "3d8a58fb",
   "metadata": {},
   "outputs": [
    {
     "data": {
      "text/html": [
       "<div>\n",
       "<style scoped>\n",
       "    .dataframe tbody tr th:only-of-type {\n",
       "        vertical-align: middle;\n",
       "    }\n",
       "\n",
       "    .dataframe tbody tr th {\n",
       "        vertical-align: top;\n",
       "    }\n",
       "\n",
       "    .dataframe thead th {\n",
       "        text-align: right;\n",
       "    }\n",
       "</style>\n",
       "<table border=\"1\" class=\"dataframe\">\n",
       "  <thead>\n",
       "    <tr style=\"text-align: right;\">\n",
       "      <th></th>\n",
       "      <th>user_id</th>\n",
       "      <th>date_served</th>\n",
       "      <th>marketing_channel</th>\n",
       "      <th>variant</th>\n",
       "      <th>language_displayed</th>\n",
       "      <th>converted</th>\n",
       "    </tr>\n",
       "  </thead>\n",
       "  <tbody>\n",
       "    <tr>\n",
       "      <th>0</th>\n",
       "      <td>a1000</td>\n",
       "      <td>1/1/18</td>\n",
       "      <td>House Ads</td>\n",
       "      <td>personalization</td>\n",
       "      <td>English</td>\n",
       "      <td>True</td>\n",
       "    </tr>\n",
       "    <tr>\n",
       "      <th>1</th>\n",
       "      <td>a1001</td>\n",
       "      <td>1/1/18</td>\n",
       "      <td>House Ads</td>\n",
       "      <td>personalization</td>\n",
       "      <td>English</td>\n",
       "      <td>True</td>\n",
       "    </tr>\n",
       "    <tr>\n",
       "      <th>2</th>\n",
       "      <td>a1002</td>\n",
       "      <td>1/1/18</td>\n",
       "      <td>House Ads</td>\n",
       "      <td>personalization</td>\n",
       "      <td>English</td>\n",
       "      <td>True</td>\n",
       "    </tr>\n",
       "    <tr>\n",
       "      <th>3</th>\n",
       "      <td>a1003</td>\n",
       "      <td>1/1/18</td>\n",
       "      <td>House Ads</td>\n",
       "      <td>personalization</td>\n",
       "      <td>English</td>\n",
       "      <td>True</td>\n",
       "    </tr>\n",
       "    <tr>\n",
       "      <th>4</th>\n",
       "      <td>a1004</td>\n",
       "      <td>1/1/18</td>\n",
       "      <td>House Ads</td>\n",
       "      <td>personalization</td>\n",
       "      <td>English</td>\n",
       "      <td>True</td>\n",
       "    </tr>\n",
       "    <tr>\n",
       "      <th>...</th>\n",
       "      <td>...</td>\n",
       "      <td>...</td>\n",
       "      <td>...</td>\n",
       "      <td>...</td>\n",
       "      <td>...</td>\n",
       "      <td>...</td>\n",
       "    </tr>\n",
       "    <tr>\n",
       "      <th>10032</th>\n",
       "      <td>a11032</td>\n",
       "      <td>1/17/18</td>\n",
       "      <td>Email</td>\n",
       "      <td>control</td>\n",
       "      <td>German</td>\n",
       "      <td>True</td>\n",
       "    </tr>\n",
       "    <tr>\n",
       "      <th>10033</th>\n",
       "      <td>a11033</td>\n",
       "      <td>1/17/18</td>\n",
       "      <td>Email</td>\n",
       "      <td>control</td>\n",
       "      <td>German</td>\n",
       "      <td>True</td>\n",
       "    </tr>\n",
       "    <tr>\n",
       "      <th>10034</th>\n",
       "      <td>a11034</td>\n",
       "      <td>1/5/18</td>\n",
       "      <td>Instagram</td>\n",
       "      <td>control</td>\n",
       "      <td>German</td>\n",
       "      <td>False</td>\n",
       "    </tr>\n",
       "    <tr>\n",
       "      <th>10035</th>\n",
       "      <td>a11035</td>\n",
       "      <td>1/17/18</td>\n",
       "      <td>Email</td>\n",
       "      <td>control</td>\n",
       "      <td>German</td>\n",
       "      <td>True</td>\n",
       "    </tr>\n",
       "    <tr>\n",
       "      <th>10036</th>\n",
       "      <td>a11036</td>\n",
       "      <td>1/6/18</td>\n",
       "      <td>Facebook</td>\n",
       "      <td>control</td>\n",
       "      <td>German</td>\n",
       "      <td>False</td>\n",
       "    </tr>\n",
       "  </tbody>\n",
       "</table>\n",
       "<p>10037 rows × 6 columns</p>\n",
       "</div>"
      ],
      "text/plain": [
       "      user_id date_served marketing_channel          variant  \\\n",
       "0       a1000      1/1/18         House Ads  personalization   \n",
       "1       a1001      1/1/18         House Ads  personalization   \n",
       "2       a1002      1/1/18         House Ads  personalization   \n",
       "3       a1003      1/1/18         House Ads  personalization   \n",
       "4       a1004      1/1/18         House Ads  personalization   \n",
       "...       ...         ...               ...              ...   \n",
       "10032  a11032     1/17/18             Email          control   \n",
       "10033  a11033     1/17/18             Email          control   \n",
       "10034  a11034      1/5/18         Instagram          control   \n",
       "10035  a11035     1/17/18             Email          control   \n",
       "10036  a11036      1/6/18          Facebook          control   \n",
       "\n",
       "      language_displayed converted  \n",
       "0                English      True  \n",
       "1                English      True  \n",
       "2                English      True  \n",
       "3                English      True  \n",
       "4                English      True  \n",
       "...                  ...       ...  \n",
       "10032             German      True  \n",
       "10033             German      True  \n",
       "10034             German     False  \n",
       "10035             German      True  \n",
       "10036             German     False  \n",
       "\n",
       "[10037 rows x 6 columns]"
      ]
     },
     "execution_count": 3,
     "metadata": {},
     "output_type": "execute_result"
    }
   ],
   "source": [
    "df"
   ]
  },
  {
   "cell_type": "markdown",
   "id": "f4c4ec4a",
   "metadata": {},
   "source": [
    "Датасет не содержит признаков, по которым мы могли бы провести АА тестирование между контрольной и целевой группами.\n",
    "Значит допустим, что они не отличаются друг от друга в значительной степени."
   ]
  },
  {
   "cell_type": "code",
   "execution_count": 12,
   "id": "d127ed03",
   "metadata": {},
   "outputs": [],
   "source": [
    "A = df[df['variant'] == 'control']\n",
    "B = df[df['variant'] == 'personalization']"
   ]
  },
  {
   "cell_type": "code",
   "execution_count": 15,
   "id": "506d1cd0",
   "metadata": {},
   "outputs": [
    {
     "data": {
      "text/plain": [
       "False    4705\n",
       "True      371\n",
       "Name: converted, dtype: int64"
      ]
     },
     "execution_count": 15,
     "metadata": {},
     "output_type": "execute_result"
    }
   ],
   "source": [
    "A['converted'].value_counts()"
   ]
  },
  {
   "cell_type": "code",
   "execution_count": 17,
   "id": "56c8d63b",
   "metadata": {},
   "outputs": [
    {
     "data": {
      "text/plain": [
       "False    4241\n",
       "True      705\n",
       "Name: converted, dtype: int64"
      ]
     },
     "execution_count": 17,
     "metadata": {},
     "output_type": "execute_result"
    }
   ],
   "source": [
    "B['converted'].value_counts()"
   ]
  },
  {
   "cell_type": "markdown",
   "id": "5a11565d",
   "metadata": {},
   "source": [
    "На первый взгляд видно, что в целевой группе конверсия значительно выше. Проверим это при помощи статистического метода.\n",
    "\n",
    "Поскольку целевой критерий является категориальным, то будем использовать метод Хи-квадрат. "
   ]
  },
  {
   "cell_type": "code",
   "execution_count": 36,
   "id": "8cf26c6c",
   "metadata": {},
   "outputs": [],
   "source": [
    "from statsmodels.stats import proportion"
   ]
  },
  {
   "cell_type": "code",
   "execution_count": 30,
   "id": "2791a157",
   "metadata": {},
   "outputs": [],
   "source": [
    "k_A = A['converted'].sum()\n",
    "n_A = A.shape[0]"
   ]
  },
  {
   "cell_type": "code",
   "execution_count": 31,
   "id": "8d9d525c",
   "metadata": {},
   "outputs": [],
   "source": [
    "k_B = B['converted'].sum()\n",
    "n_B = B.shape[0]"
   ]
  },
  {
   "cell_type": "code",
   "execution_count": 51,
   "id": "e5fb0f78",
   "metadata": {},
   "outputs": [
    {
     "name": "stdout",
     "output_type": "stream",
     "text": [
      "P-value = 1.6688675207808698e-29\n"
     ]
    }
   ],
   "source": [
    "chisq, p_value, table = proportion.proportions_chisquare(np.array([k_A, k_B]),\n",
    "                                                         np.array([n_A, n_B]))\n",
    "print(f'P-value = {p_value}')"
   ]
  },
  {
   "cell_type": "markdown",
   "id": "04be4740",
   "metadata": {},
   "source": [
    "P-value крайне мал, следовательно различие в конверсии следует считать статистически значимым, какой бы уровень значимости мы не выбрали."
   ]
  },
  {
   "cell_type": "code",
   "execution_count": null,
   "id": "9ddc7fdc",
   "metadata": {},
   "outputs": [],
   "source": []
  }
 ],
 "metadata": {
  "kernelspec": {
   "display_name": "Python 3 (ipykernel)",
   "language": "python",
   "name": "python3"
  },
  "language_info": {
   "codemirror_mode": {
    "name": "ipython",
    "version": 3
   },
   "file_extension": ".py",
   "mimetype": "text/x-python",
   "name": "python",
   "nbconvert_exporter": "python",
   "pygments_lexer": "ipython3",
   "version": "3.10.5"
  }
 },
 "nbformat": 4,
 "nbformat_minor": 5
}
